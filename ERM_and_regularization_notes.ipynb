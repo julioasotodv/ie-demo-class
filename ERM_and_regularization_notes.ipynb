{
 "cells": [
  {
   "cell_type": "raw",
   "id": "58575a08-6b91-45ed-a19e-23c1fa965524",
   "metadata": {},
   "source": [
    "---\n",
    "title: \"ERM and Regularization\"\n",
    "author: \n",
    "  - \"Julio Antonio Soto Vicente\"\n",
    "institute: \"IE University (demo class)\"\n",
    "format: \n",
    "  beamer:\n",
    "    pdf-engine: xelatex\n",
    "    slide-level: 2\n",
    "    latex-auto-install: false\n",
    "    toc: true\n",
    "    toc-title: Outline\n",
    "    theme: metropolis\n",
    "    innertheme: circles\n",
    "    outertheme: infolinescustom\n",
    "    navigation: empty\n",
    "    fig-align: center\n",
    "    fig-width: 5\n",
    "    fig-height: 3\n",
    "    fig-dpi: 500\n",
    "    fig-format: png\n",
    "    papersize: a4\n",
    "    template-partials:\n",
    "      - toc.tex\n",
    "header-includes: |\n",
    "  \\titlegraphic{June 2025}\n",
    "  \\setbeamertemplate{headline}{}\n",
    "  \\setbeamerfont{caption}{size=\\tiny}\n",
    "  \\definecolor{MyDarkGreen}{HTML}{2754c4}\n",
    "  \\definecolor{MyDarkPurple}{HTML}{664f0b}\n",
    "jupyter: \n",
    "  kernelspec:\n",
    "    language: \"python\"\n",
    "    name: python3\n",
    "    display_name: Python\n",
    "---"
   ]
  },
  {
   "cell_type": "markdown",
   "id": "0039b230-4071-49bf-a0c2-319f3855f0f9",
   "metadata": {},
   "source": [
    "# Empirical Risk Minimization"
   ]
  },
  {
   "cell_type": "markdown",
   "id": "bf7dc07e-4b6f-4c14-a6a6-eee76682bdb7",
   "metadata": {},
   "source": [
    "## A tale of two terms {.t}\n",
    "$$\\begin{aligned}\\min_{\\mathbf{w},b} \\quad & \\underset{\\text{Loss}}{\\underbrace{{\\color{MyDarkGreen}\\sum_{n=1}^N \\ell(h_{\\mathbf{w},b}(\\mathbf{x}_n),y_n)}}} \\\\[0.5em]  \\textrm{s.t.} \\quad & \\underset{\\text{Regularization}}{\\underbrace{{\\color{MyDarkPurple}r(\\mathbf{w})\\leq C}}} \\end{aligned}$$\n",
    "\n",
    "The regulzarization generates a **constraint** that limits learned parameter values in some way, in order to favour simpler solutions\n",
    "\n",
    ". . .\n",
    "\n",
    "We can also write the same in Lagrangian form:\n",
    "$$\\min_{\\mathbf{w},b} \\quad \\underset{\\text{Loss}}{\\underbrace{{\\color{MyDarkGreen}\\sum_{n=1}^N \\ell(h_{\\mathbf{w},b}(\\mathbf{x}_n),y_n)}}} + \\underset{\\text{Regularization}}{\\underbrace{{\\color{MyDarkPurple}\\lambda r (\\mathbf{w}) \\vphantom{\\sum_{i=1}^{n}}}}}$$\n",
    "\n",
    ". . .\n",
    "\n",
    ":::: {.columns}\n",
    "\n",
    "::: {.column width=\"75%\"}\n",
    "\n",
    ":::\n",
    "\n",
    "::: {.column width=\"25%\"}\n",
    "\n",
    "```{=latex}\n",
    "\\vspace{-6.5em}\n",
    "\\begin{block}{}\n",
    "\\[{\\color{MyDarkPurple}C} \\downarrow \\quad {\\color{MyDarkPurple}\\lambda} \\uparrow\\]\n",
    "\\end{block}\n",
    "```\n",
    "\n",
    ":::\n",
    "\n",
    "::::"
   ]
  },
  {
   "cell_type": "markdown",
   "id": "25dd6c76-4738-4cfb-a2b9-8b1402d21953",
   "metadata": {},
   "source": [
    "## Empirical Risk Minimization\n",
    "\n",
    "$$\\min_{\\mathbf{w},b} \\quad \\underset{\\text{Loss}}{\\underbrace{{\\color{MyDarkGreen}\\sum_{n=1}^N \\ell(h_{\\mathbf{w},b}(\\mathbf{x}_n),y_n)}}} + \\underset{\\text{Regularization}}{\\underbrace{{\\color{MyDarkPurple}\\lambda r (\\mathbf{w}) \\vphantom{\\sum_{i=1}^{n}}}}}$$\n",
    "\n",
    "Lots of ML theory is built on top of this framework: linear models, Support Vector Machines, neural networks...\n",
    "\n",
    ". . .\n",
    "\n",
    "The regularization term can take many different forms. The most popular ones are:\n",
    "\n",
    "- $L_2$ regulatization\n",
    "- $L_1$ regularization"
   ]
  },
  {
   "cell_type": "markdown",
   "id": "c480148f-9980-4833-984a-a0a9cdfa5a7c",
   "metadata": {},
   "source": [
    "# $L_2$ regularization"
   ]
  },
  {
   "cell_type": "markdown",
   "id": "6a58ed68-3877-4747-b50b-ab512802b4e7",
   "metadata": {},
   "source": [
    "## $L_2$ regularization\n",
    "\n",
    "The regularizer forces the model to **minimize the squared $L_2$ norm of the weight vector** → $r (\\mathbf{w}) = \\left\\|\\mathbf{w}\\right\\|^2_2$:\n",
    "\n",
    "$$\\min_{\\mathbf{w},b} \\quad {\\color{MyDarkGreen}\\sum_{n=1}^N \\ell(h_{\\mathbf{w},b}(\\mathbf{x}_n),y_n)} + {\\color{MyDarkPurple}\\lambda \\left\\|\\mathbf{w}\\right\\|^2_2}$$\n",
    "\n",
    ". . .\n",
    "\n",
    "Where\n",
    "$$ \\left\\|\\mathbf{w}\\right\\|^2_2 = \\left(\\left\\|\\mathbf{w}\\right\\|_2\\right)^2 = \\left(\\sqrt{w_1^2 + w_2^2 + \\dots + w_d^2}\\right)^2 = \\sum_{i=1}^d w_i^2$$\n",
    "\n",
    ". . .\n",
    "\n",
    "$\\lambda$ is the *regularization strength* → controls the tradeoff between loss and regularization"
   ]
  },
  {
   "cell_type": "markdown",
   "id": "a5c359de-399e-44ec-a420-86aa97e77a78",
   "metadata": {},
   "source": [
    "## $L_2$ regularization\n",
    "$L_2$ regularization has the effect of **shrinking** the estimated parameters $\\mathbf{w}$ to smaller values\n",
    "\n",
    "Smaller values for $\\mathbf{w}$ generate more *conservative* predictions, potentially preventing overfitting"
   ]
  },
  {
   "cell_type": "markdown",
   "id": "b4823953-5e5e-4a01-a583-bf1542fb5628",
   "metadata": {},
   "source": [
    "## $L_2$ regularization {.t}\n",
    "\n",
    "![](images/loss_1_transparent.png){height=90% fig-align=\"center\"}"
   ]
  },
  {
   "cell_type": "markdown",
   "id": "46ff7c96-eeeb-4289-b825-fbb1f3a0d4e7",
   "metadata": {},
   "source": [
    "## $L_2$ regularization\n",
    "\n",
    "![](images/loss_3.png){height=90% fig-align=\"center\"}"
   ]
  },
  {
   "cell_type": "markdown",
   "id": "d471f366-d30c-4ad7-9a1a-ec3c2f22c8dd",
   "metadata": {},
   "source": [
    "## $L_2$ regularization\n",
    "\n",
    "![](images/loss_4.png){height=90% fig-align=\"center\"}"
   ]
  },
  {
   "cell_type": "markdown",
   "id": "fb21eb86-da96-45dd-a3e0-022c570498b3",
   "metadata": {},
   "source": [
    "## $L_2$ regularization\n",
    "\n",
    "![](images/loss_5.png){height=90% fig-align=\"center\"}"
   ]
  },
  {
   "cell_type": "markdown",
   "id": "64f67f70-f0b1-4b76-a44a-53efa1dce19b",
   "metadata": {},
   "source": [
    "## $L_2$ regularization\n",
    "\n",
    "![](images/loss_6.png){height=90% fig-align=\"center\"}"
   ]
  },
  {
   "cell_type": "markdown",
   "id": "a16e279b-c36c-4553-a2a1-6df8e4e2ebe0",
   "metadata": {},
   "source": [
    "## $L_2$ regularization\n",
    "\n",
    "![](images/loss_7.png){height=90% fig-align=\"center\"}"
   ]
  },
  {
   "cell_type": "markdown",
   "id": "449fe9e0-1d04-46b9-8306-21f0a56b7e91",
   "metadata": {},
   "source": [
    "## $L_2$ regularization\n",
    "\n",
    "![](images/loss_8.png){height=90% fig-align=\"center\"}"
   ]
  },
  {
   "cell_type": "markdown",
   "id": "eeccf438-7f95-4bc1-af94-94b581f1f747",
   "metadata": {},
   "source": [
    "## What happens if we increase $\\lambda$?\n",
    "\n",
    "![](images/loss_9.png){height=90% fig-align=\"center\"}"
   ]
  },
  {
   "cell_type": "markdown",
   "id": "48b3f52c-980b-4dd0-ba04-8515a05fe23a",
   "metadata": {},
   "source": [
    "## Sample dataset"
   ]
  },
  {
   "cell_type": "code",
   "execution_count": 1,
   "id": "281ec3a4-15d9-4127-8ae1-fce3436ef4b7",
   "metadata": {},
   "outputs": [],
   "source": [
    "import numpy as np\n",
    "import pandas as pd\n",
    "import matplotlib.pyplot as plt\n",
    "import seaborn as sns\n",
    "\n",
    "sns.set_theme()\n",
    "sns.set_style(\"darkgrid\")\n",
    "sns.set(font_scale=0.5)"
   ]
  },
  {
   "cell_type": "code",
   "execution_count": 2,
   "id": "fdacb457-4ecb-4a03-a3b6-740938d69e9b",
   "metadata": {},
   "outputs": [
    {
     "data": {
      "image/png": "[encoded data removed]",
      "text/plain": [
       "<Figure size 640x480 with 1 Axes>"
      ]
     },
     "metadata": {
      "needs_background": "light"
     },
     "output_type": "display_data"
    }
   ],
   "source": [
    "rng = np.random.default_rng(12345)\n",
    "\n",
    "df = pd.DataFrame({\"x1\": rng.normal(30, 10, 15)})\n",
    "\n",
    "df[\"y\"] = 4*df[\"x1\"] + 12 + rng.normal(0, 10, 15)\n",
    "\n",
    "df.loc[1, \"y\"] += 490\n",
    "\n",
    "ax = df.plot(kind=\"scatter\", x=\"x1\", y=\"y\")\n",
    "ax.figure.set_facecolor(\"#ffffff00\")\n",
    "ax.set_ylim(0, 700)\n",
    "ax.set_xlabel(\"$x_1$\")\n",
    "ax.set_ylabel(\"$y$\");"
   ]
  },
  {
   "cell_type": "markdown",
   "id": "5c744b76-ca4e-45ed-b186-3e882b5bfdb2",
   "metadata": {},
   "source": [
    "## Linear regression"
   ]
  },
  {
   "cell_type": "code",
   "execution_count": 3,
   "id": "39df21a5-7957-49b4-8399-11aca62d1824",
   "metadata": {},
   "outputs": [
    {
     "data": {
      "image/png": "[encoded data removed]",
      "text/plain": [
       "<Figure size 640x480 with 1 Axes>"
      ]
     },
     "metadata": {
      "needs_background": "light"
     },
     "output_type": "display_data"
    }
   ],
   "source": [
    "from sklearn.linear_model import LinearRegression\n",
    "from sklearn.preprocessing import StandardScaler\n",
    "from sklearn.pipeline import Pipeline\n",
    "\n",
    "lr = Pipeline([(\"std\", StandardScaler()), (\"lr\", LinearRegression())])\n",
    "\n",
    "lr.fit(df[[\"x1\"]], df[\"y\"])\n",
    "df[\"pred_lr\"] = lr.predict(df[[\"x1\"]])\n",
    "\n",
    "ax = df.plot(kind=\"scatter\", x=\"x1\", y=\"y\")\n",
    "df.plot(kind=\"line\", x=\"x1\", y=\"pred_lr\", ax=ax, color=\"red\", label=\"No regularization\")\n",
    "ax.figure.set_facecolor(\"#ffffff00\")\n",
    "ax.legend(loc=2)\n",
    "ax.set_ylim(0, 700)\n",
    "ax.set_xlabel(\"$x_1$\")\n",
    "ax.set_ylabel(\"$y$\");"
   ]
  },
  {
   "cell_type": "markdown",
   "id": "b2659ac5-452f-477e-ad97-ca2ffc35e3b8",
   "metadata": {},
   "source": [
    "## $L_2$-regularized linear regression"
   ]
  },
  {
   "cell_type": "code",
   "execution_count": 4,
   "id": "ddac2ea3-9614-41ff-a978-bbd45483e37e",
   "metadata": {},
   "outputs": [
    {
     "data": {
      "image/png": "[encoded data removed]",
      "text/plain": [
       "<Figure size 640x480 with 1 Axes>"
      ]
     },
     "metadata": {
      "needs_background": "light"
     },
     "output_type": "display_data"
    }
   ],
   "source": [
    "from sklearn.linear_model import Ridge\n",
    "\n",
    "def plot_ridge(alpha):\n",
    "    lr = Pipeline([(\"std\", StandardScaler()), (\"lr\", Ridge(alpha=alpha))])\n",
    "\n",
    "    lr.fit(df[[\"x1\"]], df[\"y\"])\n",
    "    \n",
    "    df[\"pred_L2\"] = lr.predict(df[[\"x1\"]])\n",
    "    \n",
    "    ax = df.plot(kind=\"scatter\", x=\"x1\", y=\"y\")\n",
    "    df.plot(kind=\"line\", x=\"x1\", y=\"pred_lr\", ax=ax, color=\"red\", label=\"No regularization\")\n",
    "    df.plot(kind=\"line\", x=\"x1\", y=\"pred_L2\", ax=ax, color=\"green\", label=\"$\\lambda$=%.1f\" % alpha)\n",
    "    ax.figure.set_facecolor(\"#ffffff00\")\n",
    "    ax.legend(loc=2)\n",
    "    ax.set_ylim(0, 700)\n",
    "    ax.set_xlabel(\"$x_1$\")\n",
    "    ax.set_ylabel(\"$y$\");\n",
    "\n",
    "plot_ridge(alpha=1.0)"
   ]
  },
  {
   "cell_type": "markdown",
   "id": "da09264b-b529-4846-92ce-5020a067f546",
   "metadata": {},
   "source": [
    "## $L_2$-regularized linear regression"
   ]
  },
  {
   "cell_type": "code",
   "execution_count": 5,
   "id": "86a2e955-ac5b-4761-a15e-c23ca37cace0",
   "metadata": {},
   "outputs": [
    {
     "data": {
      "image/png": "[encoded data removed]",
      "text/plain": [
       "<Figure size 640x480 with 1 Axes>"
      ]
     },
     "metadata": {
      "needs_background": "light"
     },
     "output_type": "display_data"
    }
   ],
   "source": [
    "plot_ridge(alpha=10.0)"
   ]
  },
  {
   "cell_type": "markdown",
   "id": "0da42cbc-ad16-48b0-b925-6ba7ab49c103",
   "metadata": {},
   "source": [
    "## $L_2$-regularized linear regression"
   ]
  },
  {
   "cell_type": "code",
   "execution_count": 6,
   "id": "4252a347-7637-45d5-b438-226ae901476e",
   "metadata": {},
   "outputs": [
    {
     "data": {
      "image/png": "[encoded data removed]",
      "text/plain": [
       "<Figure size 640x480 with 1 Axes>"
      ]
     },
     "metadata": {
      "needs_background": "light"
     },
     "output_type": "display_data"
    }
   ],
   "source": [
    "plot_ridge(alpha=100.0)"
   ]
  },
  {
   "cell_type": "markdown",
   "id": "9993213e-da46-4119-ade4-4578ae166985",
   "metadata": {},
   "source": [
    "# $L_1$ regularization"
   ]
  },
  {
   "cell_type": "markdown",
   "id": "47302169-3b64-4c41-b057-724679446802",
   "metadata": {},
   "source": [
    "## $L_1$ regularization\n",
    "\n",
    "The regularizer forces the model to **minimize the $L_1$ norm of the weight vector** → $r (\\mathbf{w}) = \\left\\|\\mathbf{w}\\right\\|_1$:\n",
    "\n",
    "$$\\min_{\\mathbf{w},b} \\quad {\\color{MyDarkGreen}\\sum_{n=1}^N \\ell(h_{\\mathbf{w},b}(\\mathbf{x}_n),y_n)} + {\\color{MyDarkPurple}\\lambda \\left\\|\\mathbf{w}\\right\\|_1}$$\n",
    "\n",
    ". . .\n",
    "\n",
    "Where\n",
    "$$ \\left\\|\\mathbf{w}\\right\\|_1 = \\sum_{i=1}^d \\lvert w_i \\rvert$$"
   ]
  },
  {
   "cell_type": "markdown",
   "id": "f403e8ce-6a2d-4e20-8ff8-dad974c98e2c",
   "metadata": {},
   "source": [
    "## $L_1$ regularization\n",
    "\n",
    "$L_1$ regularization has the effect of turning some of the parameters in $\\mathbf{w}$ to exactly $0$\n",
    "\n",
    "This induces **model sparsity**, where some of the features/dimensions are completely disregarded—a $w_i$ of $0$ makes the feature it multiplies to have no effect on the final prediction\n",
    "\n",
    ". . .\n",
    "\n",
    "Therefore, $L_1$ regularization performs **feature selection** implicitly"
   ]
  },
  {
   "cell_type": "markdown",
   "id": "ef05fe5b-4098-42e7-9510-edd1bf3ea160",
   "metadata": {},
   "source": [
    "## $L_1$ regularization\n",
    "\n",
    "![](images/loss_10.png){height=90% fig-align=\"center\"}"
   ]
  },
  {
   "cell_type": "markdown",
   "id": "88db400e-c563-492a-ab69-0122ec613e87",
   "metadata": {},
   "source": [
    "## What happens if we increase $\\lambda$?\n",
    "\n",
    "![](images/loss_11.png){height=90% fig-align=\"center\"}"
   ]
  },
  {
   "cell_type": "markdown",
   "id": "1c975313-e41f-4ca4-a2c1-e2650bbe8efe",
   "metadata": {},
   "source": [
    "## $L_2$ and $L_1$ regularization\n",
    "For the specific case of linear regression:\n",
    "\n",
    "- Linear regression with $L_2$ regularization → *Ridge*\n",
    "- Linear regression with $L_1$ regularization → *LASSO*\n",
    "- Linear regression with both $L_1$ and $L_2$ regularization → *Elastic Net*\n",
    "\n",
    ". . .\n",
    "\n",
    "$$\\begin{aligned} \\text{Elastic Net} \\,\\, = & \\,\\, \\min_{\\mathbf{w},b} \\,\\, {\\color{MyDarkGreen}\\frac{1}{N} \\sum_{n=1}^N (\\mathbf{w}^\\top \\mathbf{x}_n + b - y_n)^2} + {\\color{MyDarkPurple}\\lambda (}\\underset{L_1 \\atop\\text{ regularization}}{\\underbrace{\\vphantom{\\left(\\frac{1 - \\alpha}{2}\\right)}{\\color{MyDarkPurple}\\alpha \\left\\|\\mathbf{w}\\right\\|_1}}} {\\color{MyDarkPurple}+} \\underset{L_2 \\atop\\text{ regularization}}{\\underbrace{{\\color{MyDarkPurple} \\left(\\frac{1 - \\alpha}{2}\\right) \\left\\|\\mathbf{w}\\right\\|^2_2)}}} \\\\ & \\alpha \\in [0, 1)\\end{aligned}$$"
   ]
  },
  {
   "cell_type": "markdown",
   "id": "5aff1755-2b4f-4080-8f1f-b40e14546355",
   "metadata": {},
   "source": [
    "## Q&A\n",
    "```{=latex}\n",
    "\\begin{center}\n",
    "\\vspace{-60pt}\n",
    "\\Huge Questions?\n",
    "\\end{center}\n",
    "```"
   ]
  },
  {
   "cell_type": "markdown",
   "id": "bc2db23b-1a04-4dbf-ac50-21b8c4f24e6a",
   "metadata": {},
   "source": [
    "## Notes"
   ]
  },
  {
   "cell_type": "markdown",
   "id": "c5760fcc-659e-489e-9d55-43a3f2f5798b",
   "metadata": {},
   "source": [
    "Two terms: loss and regularization\n",
    "\n",
    "- Loss: how many mistakes you make\n",
    "- Regularization: does not involve the data, only the parameters. Penalizes overly complicated answers\n",
    "\n",
    "Best solution is a balance between the two. Occam's razor. Simpler answers tend to generalize better.\n",
    "\n",
    "General formula for losses in machine learning:\n",
    "\n",
    "$$\\min_{\\mathbf{w}}\\frac{1}{n}\\sum_{i=1}^{n}\\underset{Loss}{\\underbrace{l(h_{\\mathbf{w}}({\\mathbf{x}_i}),y_{i})}}   + \\underset{Regularizer}{\\underbrace{\\lambda r(\\mathbf{w})}}$$\n",
    "\n",
    "A lot of machine learning theory is build on top of this general formula, this framework. This is called Empirical Risk Minimization. What I would like to minimize is this loss over the test data, but because I cannot do this, so what we do is minimize the loss over the training data. I would be overfitting so I add the regularizer to favour simpler solutions that can generalize better."
   ]
  },
  {
   "cell_type": "markdown",
   "id": "193ed64e-d13c-43bc-982b-91efcf7a5fcb",
   "metadata": {},
   "source": [
    "$$\\begin{aligned}\\min_{\\mathbf{w},b} \\quad & \\sum_{i=1}^n \\ell(h_\\mathbf{w}(\\mathbf{x}_i),y_i) \\\\&\\\\ \\textrm{s.t.} \\quad & r(\\mathbf{w})\\leq C \\end{aligned}$$\n",
    "\n"
   ]
  },
  {
   "cell_type": "markdown",
   "id": "75258164-f027-4715-a485-d4ca43efa48e",
   "metadata": {},
   "source": [
    "So, regularization is a constraint"
   ]
  },
  {
   "cell_type": "markdown",
   "id": "a1399f82-6927-47f2-9d3e-5b816a30ec44",
   "metadata": {},
   "source": [
    "Now, specifically, let's talk about L2 regularization. Fórmula para L2 reg y grafiquito, así que nada. Y ahí acaba el vídeo 16.\n",
    "\n",
    "El 17 recuerda L2, y ya empieza con L1. Cuenta el diamante, y ya dice la ventaja de la L1 (que literalmente algunos weights se van a 0)"
   ]
  },
  {
   "cell_type": "code",
   "execution_count": null,
   "id": "37418287-56a2-440b-8ffc-ceeb8d43ab6b",
   "metadata": {},
   "outputs": [],
   "source": []
  }
 ],
 "metadata": {
  "kernelspec": {
   "display_name": "Python [conda env:base] *",
   "language": "python",
   "name": "conda-base-py"
  },
  "language_info": {
   "codemirror_mode": {
    "name": "ipython",
    "version": 3
   },
   "file_extension": ".py",
   "mimetype": "text/x-python",
   "name": "python",
   "nbconvert_exporter": "python",
   "pygments_lexer": "ipython3",
   "version": "3.12.7"
  }
 },
 "nbformat": 4,
 "nbformat_minor": 5
}
